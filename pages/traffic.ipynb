{
 "cells": [
  {
   "cell_type": "markdown",
   "metadata": {},
   "source": [
    "<a href=\"..\\index.html\">Home</a> <br>\n",
    "<table>\n",
    "    <tr><td><img src=\"http://udottraffic.utah.gov/1_devices/I-84-mp-92.gif\">I-84 Mtn Green MP92</td>\n",
    "        <td><img src=\"http://udottraffic.utah.gov/1_devices/aux17208.jpeg\">I-84 Weber Caynon WB MP91</td>\n",
    "    </tr>\n",
    "    <tr>\n",
    "        <td><img src=\"http://udottraffic.utah.gov/1_devices/aux15104.jpeg\">US89 @ 1-84</td>\n",
    "        <td><img src=\"http://udottraffic.utah.gov/1_devices/aux15103.jpeg\">US89 @ Uintah</td>\n",
    "    </tr>\n",
    "    <tr>\n",
    "        <td><img src=\"http://udottraffic.utah.gov/1_devices/aux15521.jpeg\">US89 @ Harrison Blvd</td>\n",
    "        <td><img src=\"http://udottraffic.utah.gov/1_devices/aux16883.jpeg\">US89 @ Adams Ave</td>\n",
    "    </tr>\n",
    "    <tr>\n",
    "        <td><img src=\"http://udottraffic.utah.gov/1_devices/aux431.jpeg\">US89 @ 40th</td>\n",
    "        <td><img src=\"http://udottraffic.utah.gov/1_devices/aux421.jpeg\">Riverdale Rd @ Wall Ave</td>\n",
    "    </tr>\n",
    "    <tr>\n",
    "        <td><img src=\"http://udottraffic.utah.gov/1_devices/aux424.jpeg\">Riverdale Rd @ 300W</td>\n",
    "        <td><img src=\"http://udottraffic.utah.gov/1_devices/aux316.jpeg\">Riverdale Rd @ 900W</td>\n",
    "    </tr>\n",
    "    <tr>\n",
    "        <td><img src=\"http://udottraffic.utah.gov/1_devices/aux317.jpeg\">I-84 @ Riverdale Rd</td>\n",
    "        <td><img src=\"http://udottraffic.utah.gov/1_devices/aux16274.jpeg\">I-15 NB @ Riverdale Rd</td>\n",
    "    </tr>\n",
    "</table>\n",
    "<a href=\"..\\index.html\">Home</a> <br>"
   ]
  }
 ],
 "metadata": {
  "kernelspec": {
   "display_name": "Python 3",
   "language": "python",
   "name": "python3"
  },
  "language_info": {
   "codemirror_mode": {
    "name": "ipython",
    "version": 3
   },
   "file_extension": ".py",
   "mimetype": "text/x-python",
   "name": "python",
   "nbconvert_exporter": "python",
   "pygments_lexer": "ipython3",
   "version": "3.7.3"
  }
 },
 "nbformat": 4,
 "nbformat_minor": 4
}
