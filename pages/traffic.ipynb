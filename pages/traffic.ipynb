{
 "cells": [
  {
   "cell_type": "markdown",
   "metadata": {},
   "source": [
    "<a href=\"..\\index.html\">Home</a> <br>\n",
    "<table>\n",
    "    <tr><td>I-84 Mtn Green MP92<br><img src=\"http://udottraffic.utah.gov/1_devices/I-84-mp-92.gif\"></td>\n",
    "        <td>I-84 Weber Caynon WB MP91<br><img src=\"http://udottraffic.utah.gov/1_devices/aux17208.jpeg\"></td>\n",
    "    </tr>\n",
    "    <tr>\n",
    "        <td>US89 @ 1-84 <br><img src=\"http://udottraffic.utah.gov/1_devices/aux15104.jpeg\"></td>\n",
    "        <td>US89 @ Uintah <br><img src=\"http://udottraffic.utah.gov/1_devices/aux15103.jpeg\"></td>\n",
    "    </tr>\n",
    "    <tr>\n",
    "        <td>US89 @ Harrison Blvd <br><img src=\"http://udottraffic.utah.gov/1_devices/aux15521.jpeg\"></td>\n",
    "        <td>US89 @ Adams Ave <br><img src=\"http://udottraffic.utah.gov/1_devices/aux16883.jpeg\"></td>\n",
    "    </tr>\n",
    "    <tr>\n",
    "        <td>US89 @ 40th <br><img src=\"http://udottraffic.utah.gov/1_devices/aux431.jpeg\"></td>\n",
    "        <td>Riverdale Rd @ Wall Ave <br><img src=\"http://udottraffic.utah.gov/1_devices/aux421.jpeg\"></td>\n",
    "    </tr>\n",
    "    <tr>\n",
    "        <td>Riverdale Rd @ 300W  <br><img src=\"http://udottraffic.utah.gov/1_devices/aux424.jpeg\"></td>\n",
    "        <td>Riverdale Rd @ 900W <br><img src=\"http://udottraffic.utah.gov/1_devices/aux316.jpeg\"></td>\n",
    "    </tr>\n",
    "    <tr>\n",
    "        <td>I-84 @ Riverdale Rd <br><img src=\"http://udottraffic.utah.gov/1_devices/aux317.jpeg\"></td>\n",
    "        <td>I-15 NB @ Riverdale Rd <br><img src=\"http://udottraffic.utah.gov/1_devices/aux16274.jpeg\"></td>\n",
    "    </tr>\n",
    "</table>\n",
    "<a href=\"..\\index.html\">Home</a> <br>"
   ]
  },
  {
   "cell_type": "code",
   "execution_count": null,
   "metadata": {},
   "outputs": [],
   "source": []
  }
 ],
 "metadata": {
  "kernelspec": {
   "display_name": "Python 3",
   "language": "python",
   "name": "python3"
  },
  "language_info": {
   "codemirror_mode": {
    "name": "ipython",
    "version": 3
   },
   "file_extension": ".py",
   "mimetype": "text/x-python",
   "name": "python",
   "nbconvert_exporter": "python",
   "pygments_lexer": "ipython3",
   "version": "3.7.3"
  }
 },
 "nbformat": 4,
 "nbformat_minor": 4
}
