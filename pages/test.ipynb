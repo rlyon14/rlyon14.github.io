{
 "cells": [
  {
   "cell_type": "markdown",
   "metadata": {},
   "source": [
    "<a href=\"..\\index.html\">Home</a> <br>\n",
    "<table>\n",
    "    <tr><td><img src=\"https://files.airnowtech.org/airnow/today/cur_pm25_usa.jpg\"> </td>\n",
    "        <td><img src=\"https://files.airnowtech.org/airnow/today/cur_aqi_co_ut_az_nm.jpg\"></td>\n",
    "</tr>\n",
    "    <tr>\n",
    "        <td><img src=\"https://files.airnowtech.org/airnow/today/cur_aqi_denver_co.jpg\"></td>\n",
    "        <td><img src=\"https://files.airnowtech.org/airnow/today/cur_aqi_saltlakecity_ut.jpg\"></td>\n",
    "    </tr>\n",
    "</table>\n",
    "<a href=\"..\\index.html\">Home</a> <br>"
   ]
  }
 ],
 "metadata": {
  "kernelspec": {
   "display_name": "Python 3",
   "language": "python",
   "name": "python3"
  },
  "language_info": {
   "codemirror_mode": {
    "name": "ipython",
    "version": 3
   },
   "file_extension": ".py",
   "mimetype": "text/x-python",
   "name": "python",
   "nbconvert_exporter": "python",
   "pygments_lexer": "ipython3",
   "version": "3.7.0"
  }
 },
 "nbformat": 4,
 "nbformat_minor": 2
}
