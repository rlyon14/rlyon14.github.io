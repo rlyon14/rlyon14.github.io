{
 "cells": [
  {
   "cell_type": "markdown",
   "metadata": {},
   "source": [
    "<a href=\"pages/test.html\">Air quality</a> <br>\n",
    "<a href=\"pages/wordcounter.html\">Word Counter</a> <br>\n",
    "<a href=\"pages/conversion.html\">Recipe</a> <br>\n",
    "<a href=\"pages/traffic.html\">Traffic</a> <br>"
   ]
  }
 ],
 "metadata": {
  "kernelspec": {
   "display_name": "Python 3",
   "language": "python",
   "name": "python3"
  },
  "language_info": {
   "codemirror_mode": {
    "name": "ipython",
    "version": 3
   },
   "file_extension": ".py",
   "mimetype": "text/x-python",
   "name": "python",
   "nbconvert_exporter": "python",
   "pygments_lexer": "ipython3",
   "version": "3.7.3"
  }
 },
 "nbformat": 4,
 "nbformat_minor": 4
}
